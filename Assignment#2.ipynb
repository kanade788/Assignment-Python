{
 "cells": [
  {
   "cell_type": "code",
   "execution_count": 11,
   "metadata": {},
   "outputs": [
    {
     "name": "stdout",
     "output_type": "stream",
     "text": [
      "Enter your Chemistry marks:84\n",
      "Enter your Physics marks:92\n",
      "Enter your Maths marks:98\n",
      "Enter your Pakistan Studies marks:47\n",
      "Enter your English marks:80\n",
      "**********MARKSHEET**********\n",
      "Chemistry Marks: 84\n",
      "Physics Marks: 92\n",
      "Maths Marks: 98\n",
      "Pakistan Studies Marks: 47\n",
      "English Marks: 80\n",
      "Total Marks Out of 500: 401\n",
      "Percentage: 80.2 %\n",
      "Grade: A+ Grade\n"
     ]
    }
   ],
   "source": [
    "#Q1:Write a program which takes five inputs from user for different subject's, total it and generate marksheet using grades\n",
    "\n",
    "chem= int(input(\"Enter your Chemistry marks:\"))\n",
    "phy= int(input(\"Enter your Physics marks:\"))\n",
    "maths= int(input(\"Enter your Maths marks:\"))\n",
    "pst= int(input(\"Enter your Pakistan Studies marks:\"))\n",
    "eng= int(input(\"Enter your English marks:\"))\n",
    "\n",
    "total = chem+phy+maths+pst+eng\n",
    "percent =(total/500)*100\n",
    "\n",
    "if percent>=80 and percent<=100:\n",
    "    res=\"A+ Grade\"\n",
    "elif percent>=70 and percent<80:\n",
    "    res=\"A Grade\"\n",
    "elif percent>=60 and percent<70:\n",
    "    res=\"B Grade\"\n",
    "elif percent>=50 and percent<60:\n",
    "    res=\"C Grade\"\n",
    "elif percent>=40 and percent<50:\n",
    "    res=\"D Grade\"\n",
    "elif percent>=33 and percent<40:\n",
    "    res=\"E Grade\"\n",
    "else:\n",
    "    res=\"F Grade\"\n",
    "\n",
    "print(\"**********MARKSHEET**********\")\n",
    "print(\"Chemistry Marks:\",chem)\n",
    "print(\"Physics Marks:\",phy)\n",
    "print(\"Maths Marks:\",maths)\n",
    "print(\"Pakistan Studies Marks:\",pst)\n",
    "print(\"English Marks:\",eng)\n",
    "print(\"Total Marks Out of 500:\",total)\n",
    "print(\"Percentage:\",percent,\"%\")\n",
    "print(\"Grade:\",res)"
   ]
  },
  {
   "cell_type": "code",
   "execution_count": 13,
   "metadata": {},
   "outputs": [
    {
     "name": "stdout",
     "output_type": "stream",
     "text": [
      "Enter a number:9\n",
      "The number 9 is an ODD number\n"
     ]
    }
   ],
   "source": [
    "#Q2:write a program which take input from user and identify that the given input is even or odd\n",
    "\n",
    "num=int(input(\"Enter a number:\"))\n",
    "\n",
    "if num%2==0:\n",
    "    print(\"The number\",num,\"is an EVEN number\")\n",
    "else:\n",
    "    print(\"The number\",num,\"is an ODD number\")"
   ]
  },
  {
   "cell_type": "code",
   "execution_count": 14,
   "metadata": {},
   "outputs": [
    {
     "name": "stdout",
     "output_type": "stream",
     "text": [
      "The length of ['monday', 'tuesday', 'wednesday', 'thursday', 'friday'] is 5\n"
     ]
    }
   ],
   "source": [
    "#Q3:write a program which prints the length of a list\n",
    "\n",
    "myList=[\"monday\",\"tuesday\",\"wednesday\",\"thursday\",\"friday\"]\n",
    "listLength= len(myList)\n",
    "print(\"The length of\",myList,\"is\",listLength)"
   ]
  },
  {
   "cell_type": "code",
   "execution_count": 15,
   "metadata": {},
   "outputs": [
    {
     "name": "stdout",
     "output_type": "stream",
     "text": [
      "The largest number in the list [12, 47, 82, 34, 19] is 82\n"
     ]
    }
   ],
   "source": [
    "#Q4:Write a python program to get the largest number from a numeric list\n",
    "\n",
    "myList=[12,47,82,34,19]\n",
    "\n",
    "print(\"The largest number in the list\",myList,\"is\",max(myList))"
   ]
  },
  {
   "cell_type": "code",
   "execution_count": 16,
   "metadata": {},
   "outputs": [
    {
     "name": "stdout",
     "output_type": "stream",
     "text": [
      "1\n",
      "1\n",
      "2\n",
      "3\n"
     ]
    }
   ],
   "source": [
    "#Q5:Take a list, say for example this one:\n",
    "a = [1, 1, 2, 3, 5, 8, 13, 21, 34, 55, 89]\n",
    "#and write a program that prints out all the elements of the list that are less than 5.\n",
    "\n",
    "for i in a:\n",
    "    if i<5:\n",
    "        print(i)"
   ]
  },
  {
   "cell_type": "code",
   "execution_count": null,
   "metadata": {},
   "outputs": [],
   "source": []
  }
 ],
 "metadata": {
  "kernelspec": {
   "display_name": "Python 3",
   "language": "python",
   "name": "python3"
  },
  "language_info": {
   "codemirror_mode": {
    "name": "ipython",
    "version": 3
   },
   "file_extension": ".py",
   "mimetype": "text/x-python",
   "name": "python",
   "nbconvert_exporter": "python",
   "pygments_lexer": "ipython3",
   "version": "3.7.4"
  }
 },
 "nbformat": 4,
 "nbformat_minor": 2
}
