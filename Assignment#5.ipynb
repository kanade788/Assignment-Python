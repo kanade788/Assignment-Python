{
 "cells": [
  {
   "cell_type": "code",
   "execution_count": null,
   "metadata": {},
   "outputs": [
    {
     "name": "stdout",
     "output_type": "stream",
     "text": [
      "Enter a non-negative integer:2\n",
      "The factorial of 2 is 2\n",
      "Enter a non-negative integer:3\n",
      "The factorial of 3 is 6\n",
      "Enter a non-negative integer:4\n",
      "The factorial of 4 is 24\n",
      "Enter a non-negative integer:0\n",
      "The factorial of 0 is: 1\n",
      "Enter a non-negative integer:-3\n",
      "Please Enter a non-negative integer\n"
     ]
    }
   ],
   "source": [
    "#Question:1\n",
    "#Write a Python function to calculate the factorial of a number (a non-negative\n",
    "#integer). The function accepts the number as an argument.\n",
    "\n",
    "\n",
    "def factorial(num):\n",
    "    fact=1 \n",
    "    while num>0:\n",
    "        fact=fact*num \n",
    "        num=num-1\n",
    "    print(\"The factorial of\",n,\"is\",fact)\n",
    "    \n",
    "while True:\n",
    "    \n",
    "    n=int(input(\"Enter a non-negative integer:\"))\n",
    "    if n<0:\n",
    "        print(\"Please Enter a non-negative integer\")\n",
    "    elif n==0:\n",
    "        print(\"The factorial of 0 is: 1\")\n",
    "    else:\n",
    "        factorial(n)\n",
    "    "
   ]
  },
  {
   "cell_type": "code",
   "execution_count": 3,
   "metadata": {},
   "outputs": [
    {
     "name": "stdout",
     "output_type": "stream",
     "text": [
      "Enter a String:Hello World\n",
      "Number of Upper Case Letters: 2\n",
      "Number of Lower Case Letters: 8\n"
     ]
    }
   ],
   "source": [
    "#Question:2\n",
    "#Write a Python function that accepts a string and calculate the number of upper\n",
    "#case letters and lower case letters.\n",
    "\n",
    "def calc(string):\n",
    "    upperCase=0\n",
    "    lowerCase=0\n",
    "\n",
    "    for i in string:\n",
    "        if i.isupper():\n",
    "            upperCase+=1\n",
    "        elif i.islower():\n",
    "            lowerCase+=1\n",
    "        \n",
    "    print(\"Number of Upper Case Letters:\",upperCase)\n",
    "    print(\"Number of Lower Case Letters:\",lowerCase)\n",
    "\n",
    "string = str(input(\"Enter a String:\"))\n",
    "calc(string)"
   ]
  },
  {
   "cell_type": "code",
   "execution_count": 6,
   "metadata": {},
   "outputs": [
    {
     "name": "stdout",
     "output_type": "stream",
     "text": [
      "Enter No of list Elements:8\n",
      "Enter list item:1\n",
      "Enter list item:2\n",
      "Enter list item:3\n",
      "Enter list item:4\n",
      "Enter list item:8\n",
      "Enter list item:9\n",
      "Enter list item:2\n",
      "Enter list item:7\n",
      "\n",
      "Your List: [1, 2, 3, 4, 8, 9, 2, 7]\n",
      "\n",
      "Even Numbers:\n",
      "2\n",
      "4\n",
      "8\n",
      "2\n"
     ]
    }
   ],
   "source": [
    "#Question:3\n",
    "#Write a Python function to print the even numbers from a given list.\n",
    "\n",
    "def evenNum(L):\n",
    "    \n",
    "    for i in L:\n",
    "        if i%2==0:\n",
    "            print(i)\n",
    "        else:\n",
    "            continue\n",
    "\n",
    "List=[]\n",
    "num=int(input(\"Enter No of list Elements:\"))\n",
    "for i in range(0,num):\n",
    "    item=int(input(\"Enter list item:\"))\n",
    "    List.append(item)\n",
    "\n",
    "print(\"\\nYour List:\",List)\n",
    "print(\"\\nEven Numbers:\")\n",
    "evenNum(List)"
   ]
  },
  {
   "cell_type": "code",
   "execution_count": null,
   "metadata": {},
   "outputs": [
    {
     "name": "stdout",
     "output_type": "stream",
     "text": [
      "Enter a String:blue\n",
      "Not a Palindrome\n",
      "Enter a String:madam\n",
      "Palindrome\n",
      "Enter a String:maham\n",
      "Palindrome\n",
      "Enter a String:pink\n",
      "Not a Palindrome\n"
     ]
    }
   ],
   "source": [
    "#Question:4\n",
    "#Write a Python function that checks whether a passed string is palindrome or not.\n",
    "#Note: A palindrome is a word, phrase, or sequence that reads the same\n",
    "#backward as forward, e.g., madam\n",
    "\n",
    "def palindromeCheck(string):\n",
    "    rev=string[::-1]\n",
    "    if string==rev:\n",
    "        print(\"Palindrome\")\n",
    "    else:\n",
    "        print(\"Not a Palindrome\")\n",
    "\n",
    "while True:\n",
    "    \n",
    "    string=str(input(\"Enter a String:\"))\n",
    "    palindromeCheck(string)"
   ]
  },
  {
   "cell_type": "code",
   "execution_count": null,
   "metadata": {},
   "outputs": [
    {
     "name": "stdout",
     "output_type": "stream",
     "text": [
      "Enter a Number:3\n",
      "3 is a prime number\n",
      "Enter a Number:4\n",
      "4 is not a prime number\n",
      "Enter a Number:7\n",
      "7 is a prime number\n",
      "Enter a Number:8\n",
      "8 is not a prime number\n",
      "Enter a Number:9\n",
      "9 is not a prime number\n",
      "Enter a Number:2\n",
      "2 is a prime number\n",
      "Enter a Number:1\n",
      "1 is not a prime number\n"
     ]
    }
   ],
   "source": [
    "#Question:5\n",
    "#Write a Python function that takes a number as a parameter and check the\n",
    "#number is prime or not.\n",
    "\n",
    "def isPrime(num):\n",
    "    for i in range(2,num):\n",
    "        if num%i==0:\n",
    "            print(num,\"is not a prime number\")\n",
    "            break\n",
    "    else:\n",
    "        print(num,\"is a prime number\")\n",
    "\n",
    "while True:\n",
    "    n=int(input(\"Enter a Number:\"))\n",
    "    if n>1:\n",
    "        isPrime(n)\n",
    "    else:\n",
    "        print(n,\"is not a prime number\")"
   ]
  },
  {
   "cell_type": "code",
   "execution_count": 2,
   "metadata": {},
   "outputs": [
    {
     "name": "stdout",
     "output_type": "stream",
     "text": [
      "Your Shopping list: Apple Orange Carrot Potato\n"
     ]
    }
   ],
   "source": [
    "#Question: 6\n",
    "#Suppose a customer is shopping in a market and you need to print all the items\n",
    "#which user bought from market.\n",
    "#Write a function which accepts the multiple arguments of user shopping list and\n",
    "#print all the items which user bought from market.\n",
    "\n",
    "def shopping_list(*arg):\n",
    "    print('Your Shopping list:',*arg)\n",
    "\n",
    "shopping_list('Apple','Orange','Carrot','Potato')\n",
    "    "
   ]
  },
  {
   "cell_type": "code",
   "execution_count": null,
   "metadata": {},
   "outputs": [],
   "source": []
  }
 ],
 "metadata": {
  "kernelspec": {
   "display_name": "Python 3",
   "language": "python",
   "name": "python3"
  },
  "language_info": {
   "codemirror_mode": {
    "name": "ipython",
    "version": 3
   },
   "file_extension": ".py",
   "mimetype": "text/x-python",
   "name": "python",
   "nbconvert_exporter": "python",
   "pygments_lexer": "ipython3",
   "version": "3.7.4"
  }
 },
 "nbformat": 4,
 "nbformat_minor": 2
}
