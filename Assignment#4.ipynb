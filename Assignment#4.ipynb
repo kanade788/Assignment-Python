{
 "cells": [
  {
   "cell_type": "code",
   "execution_count": 11,
   "metadata": {},
   "outputs": [
    {
     "name": "stdout",
     "output_type": "stream",
     "text": [
      "Current dictionary is: {'first_name': 'Maryam', 'last_name': 'Suhail', 'age': '20', 'city': 'Karachi'}\n",
      "\n",
      "\n",
      "Each piece of information stored in my dictionary:\n",
      "\n",
      "first_name Maryam\n",
      "last_name Suhail\n",
      "age 20\n",
      "city Karachi\n",
      "\n",
      "\n",
      "Adding a new key value pair about qualification:\n",
      "\n",
      "{'first_name': 'Maryam', 'last_name': 'Suhail', 'age': '20', 'city': 'Karachi', 'qualification': 'Secondary level'}\n",
      "\n",
      "Updating qualification value to High academic level:\n",
      "\n",
      "{'first_name': 'Maryam', 'last_name': 'Suhail', 'age': '20', 'city': 'Karachi', 'qualification': 'High academic level'}\n",
      "\n",
      "Deleting qualification:\n",
      "\n",
      "{'first_name': 'Maryam', 'last_name': 'Suhail', 'age': '20', 'city': 'Karachi'}\n"
     ]
    }
   ],
   "source": [
    "#Question1:\n",
    "#Use a dictionary to store information about a person you know. Store their first name, last name, age, and the city\n",
    "#in which they live. You should have keys such as first_name, last_name, age, and city. Print each piece of information\n",
    "#stored in your dictionary. Add a new key value pair about qualification then update the qualification value to high\n",
    "#academic level then delete it.\n",
    "\n",
    "D={\"first_name\": \"Maryam\",\"last_name\": \"Suhail\",\"age\":\"20\",\"city\": \"Karachi\"} #storing info of known person in dict\n",
    "print(\"Current dictionary is:\",D) #printing current dict\n",
    "print(\"\\n\") #adding a new line\n",
    "\n",
    "print(\"Each piece of information stored in my dictionary:\\n\")\n",
    "for i in D: #for printing each peace of information\n",
    "    print(i,D[i]) #i=dict_key and D[i]=dict_value\n",
    "print(\"\\n\") #adding a new line\n",
    "\n",
    "print(\"Adding a new key value pair about qualification:\\n\")\n",
    "D[\"qualification\"]=\"Secondary level\" #adding a new pair value pair to the dict\n",
    "print(D) #printing updated dict\n",
    "\n",
    "print(\"\\nUpdating qualification value to High academic level:\\n\")\n",
    "D1={\"qualification\":\"High academic level\"} #for updating qualification value\n",
    "D.update(D1) #updating value to High academic level\n",
    "print(D) #printing updated value\n",
    "\n",
    "print(\"\\nDeleting qualification:\\n\")\n",
    "del D[\"qualification\"] #deleting the qualification key\n",
    "print(D) #printing updated dictionary"
   ]
  },
  {
   "cell_type": "code",
   "execution_count": 29,
   "metadata": {},
   "outputs": [
    {
     "name": "stdout",
     "output_type": "stream",
     "text": [
      "karachi\n",
      "country : Pakistan\n",
      "population : 15741000\n",
      "fact : city of lights\n",
      "\n",
      "\n",
      "Islamabad\n",
      "country : Pakistan\n",
      "population : 1095064\n",
      "fact : capital of pakistan\n",
      "\n",
      "\n",
      "Hyderabad\n",
      "country : Pakistan\n",
      "population : 1732693\n",
      "fact : second largest city in Sindh\n",
      "\n",
      "\n"
     ]
    }
   ],
   "source": [
    "#Question2:\n",
    "#Make a dictionary called cities. Use the names of three cities as keys in your dictionary.\n",
    "#Create a dictionary of information about each city and include the country that the city is in,\n",
    "#its approximate population, and one fact about that city. The keys for each city’s dictionary should be something\n",
    "#like country, population, and fact. Print the name of each city and all of the information you have stored about it.\n",
    "\n",
    "\n",
    "cities={\"karachi\":{\"country\":\"Pakistan\",\"population\":15741000,\"fact\":\"city of lights\"},\n",
    "        \"Islamabad\":{\"country\":\"Pakistan\",\"population\":1095064,\"fact\":\"capital of pakistan\"},\n",
    "        \"Hyderabad\":{\"country\":\"Pakistan\",\"population\":1732693,\"fact\":\"second largest city in Sindh\"}}\n",
    "\n",
    "for i,j in cities.items():\n",
    "    print(i)\n",
    "    for k in j:\n",
    "        print(k,\":\",j[k])\n",
    "    print(\"\\n\")"
   ]
  },
  {
   "cell_type": "code",
   "execution_count": 34,
   "metadata": {},
   "outputs": [
    {
     "name": "stdout",
     "output_type": "stream",
     "text": [
      "write exit when done\n",
      "\n",
      "Enter your age:2\n",
      "Way to go! free ticket for you.\n",
      "\n",
      "Enter your age:8\n",
      "The ticket is $10\n",
      "\n",
      "Enter your age:23\n",
      "The ticket is $15\n",
      "\n",
      "Enter your age:exit\n"
     ]
    }
   ],
   "source": [
    "#Question3:\n",
    "#A movie theater charges different ticket prices depending on a person’s age. If a person is under the age of 3,\n",
    "#the ticket is free; if they are between 3 and 12, the ticket is $10; and if they are over age 12, the ticket is $15.\n",
    "#Write a loop in which you ask users their age, and then tell them the cost of their movie ticket.\n",
    "\n",
    "print(\"write exit when done\")\n",
    "while True:\n",
    "    age= input(\"\\nEnter your age:\")\n",
    "    if age==\"exit\":\n",
    "        break\n",
    "    else:\n",
    "        age=int(age)\n",
    "        if age<3:\n",
    "            print(\"Way to go! free ticket for you.\")\n",
    "        elif age<13:\n",
    "            print(\"The ticket is $10\")\n",
    "        else:\n",
    "            print(\"The ticket is $15\")"
   ]
  },
  {
   "cell_type": "code",
   "execution_count": 1,
   "metadata": {},
   "outputs": [
    {
     "name": "stdout",
     "output_type": "stream",
     "text": [
      "One of my favourite books is A Tale of Two Cities\n"
     ]
    }
   ],
   "source": [
    "#Question4:\n",
    "#Write a function called favorite_book() that accepts one parameter, title. The function should print a message,\n",
    "#such as One of my favorite books is Alice in Wonderland. Call the function, making sure to include a book title as an \n",
    "#argument in the function call.\n",
    "\n",
    "def favorite_book(title):\n",
    "    print(\"One of my favourite books is\",title)\n",
    "    \n",
    "favorite_book(\"A Tale of Two Cities\")"
   ]
  },
  {
   "cell_type": "code",
   "execution_count": 35,
   "metadata": {},
   "outputs": [
    {
     "name": "stdout",
     "output_type": "stream",
     "text": [
      "\n",
      "Guess the number:23\n",
      "Wrong!\n",
      "The hidden number is less than 23\n",
      "\n",
      "Guess the number:12\n",
      "Wrong!\n",
      "The hidden number is greater than 12\n",
      "\n",
      "Guess the number:14\n",
      "Wrong!\n",
      "The hidden number is greater than 14\n"
     ]
    }
   ],
   "source": [
    "#Guess the number game\n",
    "#Write a program which randomly generate a number between 1 to 30 and ask the user in input field to guess the correct\n",
    "#number. Give three chances to user guess the number and also give hint to user if hidden number is greater or smaller \n",
    "#than the number he given to input field.\n",
    "\n",
    "import random\n",
    "\n",
    "num=random.randint(1,30)\n",
    "\n",
    "for i in range(0,3):\n",
    "    guess=int(input(\"\\nGuess the number:\"))\n",
    "    if guess>30:\n",
    "        print(\"Enter a number between 1 to 30\")\n",
    "        break\n",
    "    elif guess==num:\n",
    "        print(\"Correct!\")\n",
    "        break\n",
    "    else:\n",
    "        print(\"Wrong!\")\n",
    "        if num>guess:\n",
    "            print(\"The hidden number is greater than\",guess)\n",
    "        elif num<guess:\n",
    "            print(\"The hidden number is less than\",guess)\n",
    "        "
   ]
  },
  {
   "cell_type": "code",
   "execution_count": null,
   "metadata": {},
   "outputs": [],
   "source": []
  }
 ],
 "metadata": {
  "kernelspec": {
   "display_name": "Python 3",
   "language": "python",
   "name": "python3"
  },
  "language_info": {
   "codemirror_mode": {
    "name": "ipython",
    "version": 3
   },
   "file_extension": ".py",
   "mimetype": "text/x-python",
   "name": "python",
   "nbconvert_exporter": "python",
   "pygments_lexer": "ipython3",
   "version": "3.7.4"
  }
 },
 "nbformat": 4,
 "nbformat_minor": 2
}
